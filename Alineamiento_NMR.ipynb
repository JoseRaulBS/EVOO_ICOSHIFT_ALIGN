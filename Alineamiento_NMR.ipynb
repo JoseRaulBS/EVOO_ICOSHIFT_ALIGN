{
  "nbformat": 4,
  "nbformat_minor": 0,
  "metadata": {
    "colab": {
      "provenance": [],
      "machine_shape": "hm",
      "gpuType": "L4"
    },
    "kernelspec": {
      "name": "python3",
      "display_name": "Python 3"
    },
    "language_info": {
      "name": "python"
    },
    "accelerator": "GPU"
  },
  "cells": [
    {
      "cell_type": "code",
      "execution_count": null,
      "metadata": {
        "colab": {
          "base_uri": "https://localhost:8080/"
        },
        "id": "YwYS4Dt-934F",
        "outputId": "0b674855-b07e-4081-f32e-c4621a12f6c0"
      },
      "outputs": [
        {
          "output_type": "stream",
          "name": "stdout",
          "text": [
            "Collecting pyicoshift\n",
            "  Downloading pyicoshift-0.0.3-py3-none-any.whl (22 kB)\n",
            "Requirement already satisfied: numpy>=1.23.3 in /usr/local/lib/python3.10/dist-packages (from pyicoshift) (1.25.2)\n",
            "Collecting nmrglue>=0.9 (from pyicoshift)\n",
            "  Downloading nmrglue-0.10-py2.py3-none-any.whl (225 kB)\n",
            "\u001b[2K     \u001b[90m━━━━━━━━━━━━━━━━━━━━━━━━━━━━━━━━━━━━━━━━\u001b[0m \u001b[32m225.7/225.7 kB\u001b[0m \u001b[31m7.8 MB/s\u001b[0m eta \u001b[36m0:00:00\u001b[0m\n",
            "\u001b[?25hRequirement already satisfied: matplotlib>=3.6.0 in /usr/local/lib/python3.10/dist-packages (from pyicoshift) (3.7.1)\n",
            "Requirement already satisfied: scipy>=1.9.1 in /usr/local/lib/python3.10/dist-packages (from pyicoshift) (1.11.4)\n",
            "Requirement already satisfied: scikit-learn>=1.1.2 in /usr/local/lib/python3.10/dist-packages (from pyicoshift) (1.2.2)\n",
            "Requirement already satisfied: statsmodels>=0.13.2 in /usr/local/lib/python3.10/dist-packages (from pyicoshift) (0.14.2)\n",
            "Requirement already satisfied: contourpy>=1.0.1 in /usr/local/lib/python3.10/dist-packages (from matplotlib>=3.6.0->pyicoshift) (1.2.1)\n",
            "Requirement already satisfied: cycler>=0.10 in /usr/local/lib/python3.10/dist-packages (from matplotlib>=3.6.0->pyicoshift) (0.12.1)\n",
            "Requirement already satisfied: fonttools>=4.22.0 in /usr/local/lib/python3.10/dist-packages (from matplotlib>=3.6.0->pyicoshift) (4.53.0)\n",
            "Requirement already satisfied: kiwisolver>=1.0.1 in /usr/local/lib/python3.10/dist-packages (from matplotlib>=3.6.0->pyicoshift) (1.4.5)\n",
            "Requirement already satisfied: packaging>=20.0 in /usr/local/lib/python3.10/dist-packages (from matplotlib>=3.6.0->pyicoshift) (24.1)\n",
            "Requirement already satisfied: pillow>=6.2.0 in /usr/local/lib/python3.10/dist-packages (from matplotlib>=3.6.0->pyicoshift) (9.4.0)\n",
            "Requirement already satisfied: pyparsing>=2.3.1 in /usr/local/lib/python3.10/dist-packages (from matplotlib>=3.6.0->pyicoshift) (3.1.2)\n",
            "Requirement already satisfied: python-dateutil>=2.7 in /usr/local/lib/python3.10/dist-packages (from matplotlib>=3.6.0->pyicoshift) (2.8.2)\n",
            "Requirement already satisfied: joblib>=1.1.1 in /usr/local/lib/python3.10/dist-packages (from scikit-learn>=1.1.2->pyicoshift) (1.4.2)\n",
            "Requirement already satisfied: threadpoolctl>=2.0.0 in /usr/local/lib/python3.10/dist-packages (from scikit-learn>=1.1.2->pyicoshift) (3.5.0)\n",
            "Requirement already satisfied: pandas!=2.1.0,>=1.4 in /usr/local/lib/python3.10/dist-packages (from statsmodels>=0.13.2->pyicoshift) (2.0.3)\n",
            "Requirement already satisfied: patsy>=0.5.6 in /usr/local/lib/python3.10/dist-packages (from statsmodels>=0.13.2->pyicoshift) (0.5.6)\n",
            "Requirement already satisfied: pytz>=2020.1 in /usr/local/lib/python3.10/dist-packages (from pandas!=2.1.0,>=1.4->statsmodels>=0.13.2->pyicoshift) (2023.4)\n",
            "Requirement already satisfied: tzdata>=2022.1 in /usr/local/lib/python3.10/dist-packages (from pandas!=2.1.0,>=1.4->statsmodels>=0.13.2->pyicoshift) (2024.1)\n",
            "Requirement already satisfied: six in /usr/local/lib/python3.10/dist-packages (from patsy>=0.5.6->statsmodels>=0.13.2->pyicoshift) (1.16.0)\n",
            "Installing collected packages: nmrglue, pyicoshift\n",
            "Successfully installed nmrglue-0.10 pyicoshift-0.0.3\n",
            "Requirement already satisfied: pandas in /usr/local/lib/python3.10/dist-packages (2.0.3)\n",
            "Requirement already satisfied: python-dateutil>=2.8.2 in /usr/local/lib/python3.10/dist-packages (from pandas) (2.8.2)\n",
            "Requirement already satisfied: pytz>=2020.1 in /usr/local/lib/python3.10/dist-packages (from pandas) (2023.4)\n",
            "Requirement already satisfied: tzdata>=2022.1 in /usr/local/lib/python3.10/dist-packages (from pandas) (2024.1)\n",
            "Requirement already satisfied: numpy>=1.21.0 in /usr/local/lib/python3.10/dist-packages (from pandas) (1.25.2)\n",
            "Requirement already satisfied: six>=1.5 in /usr/local/lib/python3.10/dist-packages (from python-dateutil>=2.8.2->pandas) (1.16.0)\n",
            "Requirement already satisfied: openpyxl in /usr/local/lib/python3.10/dist-packages (3.1.4)\n",
            "Requirement already satisfied: et-xmlfile in /usr/local/lib/python3.10/dist-packages (from openpyxl) (1.1.0)\n"
          ]
        }
      ],
      "source": [
        "!pip install pyicoshift\n",
        "!pip install pandas\n",
        "!pip install openpyxl  # para leer archivos Excel\n"
      ]
    },
    {
      "cell_type": "code",
      "source": [
        "import pandas as pd\n",
        "\n",
        "# Carga el archivo Excel\n",
        "# Asegúrate de cambiar 'tu_archivo.xlsx' por el nombre real de tu archivo y la hoja si es necesario\n",
        "df = pd.read_csv('/content/Blends + All.csv')\n"
      ],
      "metadata": {
        "id": "QRiu_a80-cFD"
      },
      "execution_count": null,
      "outputs": []
    },
    {
      "cell_type": "code",
      "source": [
        "import pandas as pd\n",
        "from pyicoshift.pyicoshift import Icoshift  # Corregir la ruta de importación\n",
        "\n",
        "# Separar las columnas categóricas y las de espectro\n",
        "categorical_columns = df.iloc[:, :3]  # Cambia el índice si es necesario\n",
        "spectrum_columns = df.iloc[:, 3:]\n",
        "\n",
        "# Inicializar Icoshift\n",
        "icoshifter = Icoshift()\n",
        "\n",
        "# Establecer los datos y realizar configuraciones necesarias\n",
        "icoshifter.signals = spectrum_columns.to_numpy()\n",
        "icoshifter.target = 'average'  # Establece el objetivo del alineamiento, puede ser 'average', 'median', etc.\n",
        "icoshifter.run()  # Ejecutar el alineamiento\n",
        "\n",
        "# Convertir los espectros alineados de nuevo a DataFrame\n",
        "aligned_spectra = icoshifter.result  # Asumiendo que 'result' contiene los datos alineados\n",
        "aligned_df = pd.DataFrame(aligned_spectra, columns=spectrum_columns.columns)\n",
        "\n",
        "# Añadir las columnas categóricas de nuevo\n",
        "final_df = pd.concat([categorical_columns, aligned_df], axis=1)\n",
        "\n",
        "# Opcional: Guardar el resultado en un nuevo archivo Excel\n",
        "final_df.to_excel('Blends + All_aligned_spectra.xlsx', index=False)\n",
        "\n",
        "print(\"Alineación completada y datos guardados.\")\n",
        "\n"
      ],
      "metadata": {
        "colab": {
          "base_uri": "https://localhost:8080/"
        },
        "id": "0fu3a7Xz-t0G",
        "outputId": "778be552-c15c-4488-b3b4-76152ed57459"
      },
      "execution_count": null,
      "outputs": [
        {
          "output_type": "stream",
          "name": "stdout",
          "text": [
            "Alineación completada y datos guardados.\n"
          ]
        }
      ]
    }
  ]
}